{
 "cells": [
  {
   "cell_type": "code",
   "execution_count": 1,
   "id": "09b618f7",
   "metadata": {},
   "outputs": [],
   "source": [
    "import tensorflow as tf\n",
    "import numpy as np\n",
    "import random\n",
    "import pandas as pd"
   ]
  },
  {
   "cell_type": "code",
   "execution_count": 2,
   "id": "d5a75d14",
   "metadata": {},
   "outputs": [
    {
     "name": "stdout",
     "output_type": "stream",
     "text": [
      "               Image_id          Label\n",
      "0  id_02amazy34fgh2.jpg  fall_armyworm\n",
      "1  id_02mh3w48pmyc9.jpg        healthy\n",
      "2  id_02rpb463h9d3w.jpg        healthy\n",
      "3  id_02wc3jeeao8ol.jpg  fall_armyworm\n",
      "4  id_03t2hapb8wz8p.jpg  fall_armyworm\n"
     ]
    }
   ],
   "source": [
    "random.seed(42)\n",
    "np.random.seed(42)\n",
    "tf.random.set_seed(42)\n",
    "\n",
    "train_df = pd.read_csv(\"Train.csv\")\n",
    "dict = {0:\"healthy\", 1:\"fall_armyworm\"}\n",
    "train_df.Label = train_df.Label.map(dict)\n",
    "print(train_df.head())"
   ]
  },
  {
   "cell_type": "code",
   "execution_count": 3,
   "id": "c8aa808c",
   "metadata": {},
   "outputs": [
    {
     "name": "stdout",
     "output_type": "stream",
     "text": [
      "Found 1296 validated image filenames belonging to 2 classes.\n",
      "Found 323 validated image filenames belonging to 2 classes.\n"
     ]
    }
   ],
   "source": [
    "from tensorflow.keras.preprocessing.image import ImageDataGenerator\n",
    "\n",
    "train_gen = ImageDataGenerator(\n",
    "    rotation_range = 10,\n",
    "    zoom_range = 0.1,\n",
    "    validation_split = 0.2,\n",
    ")\n",
    "\n",
    "train_ds = train_gen.flow_from_dataframe(\n",
    "    directory = \"Images\",\n",
    "    dataframe = train_df,\n",
    "    x_col = \"Image_id\",\n",
    "    y_col = \"Label\",\n",
    "    target_size = (256,256),\n",
    "    batch_size = 32,\n",
    "    class_mode = \"categorical\",\n",
    "    shuffle = True,\n",
    "    subset = \"training\",\n",
    ")\n",
    "\n",
    "val_ds = train_gen.flow_from_dataframe(\n",
    "    directory = \"Images\",\n",
    "    dataframe = train_df,\n",
    "    x_col = \"Image_id\",\n",
    "    y_col = \"Label\",\n",
    "    target_size = (256,256),\n",
    "    batch_size = 32,\n",
    "    class_mode = \"categorical\",\n",
    "    shuffle = True,\n",
    "    subset = \"validation\",\n",
    ")"
   ]
  },
  {
   "cell_type": "code",
   "execution_count": 4,
   "id": "d1d83292",
   "metadata": {},
   "outputs": [],
   "source": [
    "from tensorflow.keras.applications.vgg19 import preprocess_input, VGG19\n",
    "\n",
    "base_model = VGG19(input_shape=(256,256,3),include_top=False,weights=\"imagenet\")\n",
    "base_model.trainable = True\n",
    "\n",
    "for layer in base_model.layers:\n",
    "    if layer.name == \"block3_pool\":\n",
    "        break\n",
    "    layer.trainable = False"
   ]
  },
  {
   "cell_type": "code",
   "execution_count": 5,
   "id": "17057dcf",
   "metadata": {},
   "outputs": [
    {
     "name": "stdout",
     "output_type": "stream",
     "text": [
      "Model: \"transfer_vgg19\"\n",
      "_________________________________________________________________\n",
      " Layer (type)                Output Shape              Param #   \n",
      "=================================================================\n",
      " input_2 (InputLayer)        [(None, 256, 256, 3)]     0         \n",
      "                                                                 \n",
      " tf.__operators__.getitem (S  (None, 256, 256, 3)      0         \n",
      " licingOpLambda)                                                 \n",
      "                                                                 \n",
      " tf.nn.bias_add (TFOpLambda)  (None, 256, 256, 3)      0         \n",
      "                                                                 \n",
      " vgg19 (Functional)          (None, 8, 8, 512)         20024384  \n",
      "                                                                 \n",
      " global_average_pooling2d (G  (None, 512)              0         \n",
      " lobalAveragePooling2D)                                          \n",
      "                                                                 \n",
      " flatten (Flatten)           (None, 512)               0         \n",
      "                                                                 \n",
      " dense (Dense)               (None, 128)               65664     \n",
      "                                                                 \n",
      " dropout (Dropout)           (None, 128)               0         \n",
      "                                                                 \n",
      " dense_1 (Dense)             (None, 64)                8256      \n",
      "                                                                 \n",
      " dropout_1 (Dropout)         (None, 64)                0         \n",
      "                                                                 \n",
      " dense_2 (Dense)             (None, 2)                 130       \n",
      "                                                                 \n",
      "=================================================================\n",
      "Total params: 20,098,434\n",
      "Trainable params: 17,772,866\n",
      "Non-trainable params: 2,325,568\n",
      "_________________________________________________________________\n"
     ]
    }
   ],
   "source": [
    "from tensorflow.keras import Model\n",
    "from tensorflow.keras.layers import Dense, Dropout, GlobalAveragePooling2D, Flatten\n",
    "from tensorflow.keras.optimizers import RMSprop\n",
    "from tensorflow.keras.losses import CategoricalCrossentropy\n",
    "\n",
    "def model(y):\n",
    "    x = preprocess_input(y)\n",
    "    x = base_model(x,training=False)\n",
    "    x = GlobalAveragePooling2D()(x)\n",
    "    x = Flatten()(x)\n",
    "    x = Dense(128,activation=\"relu\")(x)\n",
    "    x = Dropout(0.2,seed=42)(x)\n",
    "    x = Dense(64,activation=\"relu\")(x)\n",
    "    x = Dropout(0.2,seed=42)(x)\n",
    "    output = Dense(2)(x)\n",
    "    model = Model(y,output,name=\"transfer_vgg19\")\n",
    "    return model\n",
    "\n",
    "model = model(tf.keras.Input(shape=(256,256,3)))\n",
    "model.summary()\n",
    "model.compile(RMSprop(learning_rate=1e-5),CategoricalCrossentropy(from_logits=True),metrics=[\"accuracy\"])"
   ]
  },
  {
   "cell_type": "code",
   "execution_count": 6,
   "id": "33797840",
   "metadata": {},
   "outputs": [
    {
     "name": "stdout",
     "output_type": "stream",
     "text": [
      "Epoch 1/5\n",
      "41/41 [==============================] - 48s 921ms/step - loss: 0.2758 - accuracy: 0.8997 - val_loss: 0.1251 - val_accuracy: 0.9659\n",
      "Epoch 2/5\n",
      "41/41 [==============================] - 34s 814ms/step - loss: 0.1054 - accuracy: 0.9691 - val_loss: 0.0748 - val_accuracy: 0.9628\n",
      "Epoch 3/5\n",
      "41/41 [==============================] - 34s 816ms/step - loss: 0.0380 - accuracy: 0.9853 - val_loss: 0.0588 - val_accuracy: 0.9845\n",
      "Epoch 4/5\n",
      "41/41 [==============================] - 33s 822ms/step - loss: 0.0367 - accuracy: 0.9892 - val_loss: 0.0465 - val_accuracy: 0.9845\n",
      "Epoch 5/5\n",
      "41/41 [==============================] - 34s 823ms/step - loss: 0.0247 - accuracy: 0.9900 - val_loss: 0.0299 - val_accuracy: 0.9938\n",
      "11/11 [==============================] - 6s 447ms/step - loss: 0.0312 - accuracy: 0.9876\n",
      "\n",
      "Accuracy: 98.76 %\n",
      "Loss: 3.12 %\n"
     ]
    }
   ],
   "source": [
    "from tensorflow.keras.callbacks import ModelCheckpoint\n",
    "from tensorflow.keras.models import load_model\n",
    "\n",
    "if __name__==\"__main__\":\n",
    "    checkpoint = ModelCheckpoint(\"fall_armyworm.h5\",save_weights_only=False,save_best_only=True)\n",
    "    model.fit(train_ds,epochs=5,validation_data=val_ds,callbacks=[checkpoint])\n",
    "    best = load_model(\"fall_armyworm.h5\")\n",
    "    loss,acc = best.evaluate(val_ds)\n",
    "    print(\"\\nAccuracy: {:.2f} %\".format(100*acc))\n",
    "    print(\"Loss: {:.2f} %\".format(100*loss))"
   ]
  },
  {
   "cell_type": "code",
   "execution_count": null,
   "id": "a679f898",
   "metadata": {},
   "outputs": [],
   "source": []
  }
 ],
 "metadata": {
  "kernelspec": {
   "display_name": "Python 3",
   "language": "python",
   "name": "python3"
  },
  "language_info": {
   "codemirror_mode": {
    "name": "ipython",
    "version": 3
   },
   "file_extension": ".py",
   "mimetype": "text/x-python",
   "name": "python",
   "nbconvert_exporter": "python",
   "pygments_lexer": "ipython3",
   "version": "3.8.10"
  }
 },
 "nbformat": 4,
 "nbformat_minor": 5
}
