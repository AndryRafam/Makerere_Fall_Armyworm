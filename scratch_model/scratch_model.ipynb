{
 "cells": [
  {
   "cell_type": "code",
   "execution_count": 1,
   "id": "733909f9",
   "metadata": {},
   "outputs": [],
   "source": [
    "import tensorflow as tf\n",
    "import pandas as pd\n",
    "import random\n",
    "import numpy as np"
   ]
  },
  {
   "cell_type": "code",
   "execution_count": 2,
   "id": "07519b55",
   "metadata": {},
   "outputs": [
    {
     "name": "stdout",
     "output_type": "stream",
     "text": [
      "               Image_id          Label\n",
      "0  id_02amazy34fgh2.jpg  fall_armyworm\n",
      "1  id_02mh3w48pmyc9.jpg        healthy\n",
      "2  id_02rpb463h9d3w.jpg        healthy\n",
      "3  id_02wc3jeeao8ol.jpg  fall_armyworm\n",
      "4  id_03t2hapb8wz8p.jpg  fall_armyworm\n"
     ]
    }
   ],
   "source": [
    "random.seed(42)\n",
    "np.random.seed(42)\n",
    "tf.random.set_seed(42)\n",
    "\n",
    "train_df = pd.read_csv(\"Train.csv\")\n",
    "dict = {0:\"healthy\", 1:\"fall_armyworm\"}\n",
    "train_df.Label = train_df.Label.map(dict)\n",
    "print(train_df.head())"
   ]
  },
  {
   "cell_type": "code",
   "execution_count": 3,
   "id": "c9f5f8c8",
   "metadata": {},
   "outputs": [
    {
     "name": "stdout",
     "output_type": "stream",
     "text": [
      "Found 1296 validated image filenames belonging to 2 classes.\n",
      "Found 323 validated image filenames belonging to 2 classes.\n"
     ]
    }
   ],
   "source": [
    "from tensorflow.keras.preprocessing.image import ImageDataGenerator\n",
    "\n",
    "train_gen = ImageDataGenerator(\n",
    "    rotation_range = 10,\n",
    "    zoom_range = 0.1,\n",
    "    validation_split = 0.2,\n",
    ")\n",
    "\n",
    "train_ds = train_gen.flow_from_dataframe(\n",
    "    directory = \"Images\",\n",
    "    dataframe = train_df,\n",
    "    x_col = \"Image_id\",\n",
    "    y_col = \"Label\",\n",
    "    target_size = (256,256),\n",
    "    batch_size = 32,\n",
    "    class_mode = \"categorical\",\n",
    "    shuffle = True,\n",
    "    subset = \"training\",\n",
    ")\n",
    "\n",
    "val_ds = train_gen.flow_from_dataframe(\n",
    "    directory = \"Images\",\n",
    "    dataframe = train_df,\n",
    "    x_col = \"Image_id\",\n",
    "    y_col = \"Label\",\n",
    "    target_size = (256,256),\n",
    "    batch_size = 32,\n",
    "    class_mode = \"categorical\",\n",
    "    shuffle = True,\n",
    "    subset = \"validation\",\n",
    ")"
   ]
  },
  {
   "cell_type": "code",
   "execution_count": 4,
   "id": "b30900f2",
   "metadata": {},
   "outputs": [],
   "source": [
    "from tensorflow.keras import Model, Input\n",
    "from tensorflow.keras.layers import Rescaling, Conv2D, MaxPooling2D, Flatten, Dense, Dropout\n",
    "\n",
    "def model(y):\n",
    "    x = Rescaling(1./255)(y)\n",
    "    x = Conv2D(64,3,padding=\"same\",activation=\"relu\",strides=(2,2))(x)\n",
    "    x = MaxPooling2D()(x)\n",
    "    \n",
    "    x = Conv2D(128,3,padding=\"same\",activation=\"relu\",strides=(2,2))(x)\n",
    "    x = Conv2D(128,3,padding=\"same\",activation=\"relu\",strides=(2,2))(x)\n",
    "    x = Conv2D(256,3,padding=\"same\",activation=\"relu\",strides=(2,2))(x)\n",
    "    x = MaxPooling2D()(x)\n",
    "\n",
    "    x = Flatten()(x)\n",
    "    x = Dense(512,activation=\"relu\")(x)\n",
    "    x = Dropout(0.2,seed=42)(x)\n",
    "    x = Dense(512,activation=\"relu\")(x)\n",
    "    x = Dropout(0.2,seed=42)(x)\n",
    "    \n",
    "    output = Dense(2)(x)\n",
    "    model = Model(y,output)\n",
    "    return model"
   ]
  },
  {
   "cell_type": "code",
   "execution_count": 5,
   "id": "76be96b3",
   "metadata": {},
   "outputs": [
    {
     "name": "stdout",
     "output_type": "stream",
     "text": [
      "Model: \"model\"\n",
      "_________________________________________________________________\n",
      " Layer (type)                Output Shape              Param #   \n",
      "=================================================================\n",
      " input_1 (InputLayer)        [(None, 256, 256, 3)]     0         \n",
      "                                                                 \n",
      " rescaling (Rescaling)       (None, 256, 256, 3)       0         \n",
      "                                                                 \n",
      " conv2d (Conv2D)             (None, 128, 128, 64)      1792      \n",
      "                                                                 \n",
      " max_pooling2d (MaxPooling2D  (None, 64, 64, 64)       0         \n",
      " )                                                               \n",
      "                                                                 \n",
      " conv2d_1 (Conv2D)           (None, 32, 32, 128)       73856     \n",
      "                                                                 \n",
      " conv2d_2 (Conv2D)           (None, 16, 16, 128)       147584    \n",
      "                                                                 \n",
      " conv2d_3 (Conv2D)           (None, 8, 8, 256)         295168    \n",
      "                                                                 \n",
      " max_pooling2d_1 (MaxPooling  (None, 4, 4, 256)        0         \n",
      " 2D)                                                             \n",
      "                                                                 \n",
      " flatten (Flatten)           (None, 4096)              0         \n",
      "                                                                 \n",
      " dense (Dense)               (None, 512)               2097664   \n",
      "                                                                 \n",
      " dropout (Dropout)           (None, 512)               0         \n",
      "                                                                 \n",
      " dense_1 (Dense)             (None, 512)               262656    \n",
      "                                                                 \n",
      " dropout_1 (Dropout)         (None, 512)               0         \n",
      "                                                                 \n",
      " dense_2 (Dense)             (None, 2)                 1026      \n",
      "                                                                 \n",
      "=================================================================\n",
      "Total params: 2,879,746\n",
      "Trainable params: 2,879,746\n",
      "Non-trainable params: 0\n",
      "_________________________________________________________________\n"
     ]
    }
   ],
   "source": [
    "from tensorflow.keras.optimizers import RMSprop\n",
    "from tensorflow.keras.losses import CategoricalCrossentropy\n",
    "\n",
    "model = model(Input(shape=(256,256,3)))\n",
    "model.summary()\n",
    "model.compile(RMSprop(learning_rate=1e-3),CategoricalCrossentropy(from_logits=True),metrics=[\"accuracy\"])"
   ]
  },
  {
   "cell_type": "code",
   "execution_count": 6,
   "id": "b38512c3",
   "metadata": {},
   "outputs": [
    {
     "name": "stdout",
     "output_type": "stream",
     "text": [
      "Epoch 1/20\n",
      "41/41 [==============================] - 24s 524ms/step - loss: 0.7614 - accuracy: 0.5208 - val_loss: 0.6914 - val_accuracy: 0.6068\n",
      "Epoch 2/20\n",
      "41/41 [==============================] - 21s 510ms/step - loss: 0.7431 - accuracy: 0.5394 - val_loss: 0.6970 - val_accuracy: 0.4768\n",
      "Epoch 3/20\n",
      "41/41 [==============================] - 21s 513ms/step - loss: 0.6932 - accuracy: 0.5748 - val_loss: 0.6590 - val_accuracy: 0.6935\n",
      "Epoch 4/20\n",
      "41/41 [==============================] - 21s 531ms/step - loss: 0.6628 - accuracy: 0.6628 - val_loss: 0.5059 - val_accuracy: 0.7585\n",
      "Epoch 5/20\n",
      "41/41 [==============================] - 21s 523ms/step - loss: 0.6123 - accuracy: 0.7122 - val_loss: 0.4977 - val_accuracy: 0.7492\n",
      "Epoch 6/20\n",
      "41/41 [==============================] - 20s 492ms/step - loss: 0.5866 - accuracy: 0.7477 - val_loss: 0.4910 - val_accuracy: 0.7616\n",
      "Epoch 7/20\n",
      "41/41 [==============================] - 21s 507ms/step - loss: 0.4748 - accuracy: 0.7778 - val_loss: 0.4317 - val_accuracy: 0.7802\n",
      "Epoch 8/20\n",
      "41/41 [==============================] - 21s 508ms/step - loss: 0.4491 - accuracy: 0.8056 - val_loss: 0.3594 - val_accuracy: 0.8297\n",
      "Epoch 9/20\n",
      "41/41 [==============================] - 21s 517ms/step - loss: 0.3852 - accuracy: 0.8287 - val_loss: 0.2968 - val_accuracy: 0.8700\n",
      "Epoch 10/20\n",
      "41/41 [==============================] - 21s 523ms/step - loss: 0.3580 - accuracy: 0.8519 - val_loss: 0.4766 - val_accuracy: 0.8266\n",
      "Epoch 11/20\n",
      "41/41 [==============================] - 22s 531ms/step - loss: 0.3415 - accuracy: 0.8557 - val_loss: 0.2675 - val_accuracy: 0.8762\n",
      "Epoch 12/20\n",
      "41/41 [==============================] - 21s 515ms/step - loss: 0.3022 - accuracy: 0.8858 - val_loss: 0.2493 - val_accuracy: 0.9040\n",
      "Epoch 13/20\n",
      "41/41 [==============================] - 21s 504ms/step - loss: 0.2997 - accuracy: 0.8866 - val_loss: 0.2397 - val_accuracy: 0.9040\n",
      "Epoch 14/20\n",
      "41/41 [==============================] - 21s 510ms/step - loss: 0.3058 - accuracy: 0.8920 - val_loss: 0.2465 - val_accuracy: 0.8947\n",
      "Epoch 15/20\n",
      "41/41 [==============================] - 20s 497ms/step - loss: 0.2269 - accuracy: 0.9113 - val_loss: 0.2057 - val_accuracy: 0.9164\n",
      "Epoch 16/20\n",
      "41/41 [==============================] - 20s 485ms/step - loss: 0.2552 - accuracy: 0.9043 - val_loss: 0.2496 - val_accuracy: 0.9071\n",
      "Epoch 17/20\n",
      "41/41 [==============================] - 20s 481ms/step - loss: 0.2309 - accuracy: 0.9059 - val_loss: 0.2305 - val_accuracy: 0.9133\n",
      "Epoch 18/20\n",
      "41/41 [==============================] - 20s 493ms/step - loss: 0.2397 - accuracy: 0.9151 - val_loss: 0.1899 - val_accuracy: 0.9350\n",
      "Epoch 19/20\n",
      "41/41 [==============================] - 20s 478ms/step - loss: 0.2043 - accuracy: 0.9290 - val_loss: 0.2399 - val_accuracy: 0.9257\n",
      "Epoch 20/20\n",
      "41/41 [==============================] - 19s 476ms/step - loss: 0.1851 - accuracy: 0.9290 - val_loss: 0.1894 - val_accuracy: 0.9350\n",
      "11/11 [==============================] - 4s 342ms/step - loss: 0.2019 - accuracy: 0.9319\n",
      "\n",
      "Accuracy: 93.19 %\n",
      "Loss: 20.19 %\n"
     ]
    }
   ],
   "source": [
    "from tensorflow.keras.callbacks import ModelCheckpoint\n",
    "from tensorflow.keras.models import load_model\n",
    "\n",
    "if __name__==\"__main__\":\n",
    "    checkpoint = ModelCheckpoint(\"fall_armyworm.h5\",save_weights_only=False,save_best_only=True,monitor=\"val_accuracy\")\n",
    "    model.fit(train_ds,epochs=20,validation_data=val_ds,callbacks=[checkpoint])\n",
    "    best = load_model(\"fall_armyworm.h5\")\n",
    "    loss,acc = best.evaluate(val_ds)\n",
    "    print(\"\\nAccuracy: {:.2f} %\".format(100*acc))\n",
    "    print(\"Loss: {:.2f} %\".format(100*loss))"
   ]
  },
  {
   "cell_type": "code",
   "execution_count": null,
   "id": "7ee33a7a",
   "metadata": {},
   "outputs": [],
   "source": []
  }
 ],
 "metadata": {
  "kernelspec": {
   "display_name": "Python 3",
   "language": "python",
   "name": "python3"
  },
  "language_info": {
   "codemirror_mode": {
    "name": "ipython",
    "version": 3
   },
   "file_extension": ".py",
   "mimetype": "text/x-python",
   "name": "python",
   "nbconvert_exporter": "python",
   "pygments_lexer": "ipython3",
   "version": "3.8.10"
  }
 },
 "nbformat": 4,
 "nbformat_minor": 5
}
